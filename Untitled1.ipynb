{
  "nbformat": 4,
  "nbformat_minor": 0,
  "metadata": {
    "colab": {
      "provenance": [],
      "authorship_tag": "ABX9TyNpSoZGugIpwGADZsivL24Q",
      "include_colab_link": true
    },
    "kernelspec": {
      "name": "python3",
      "display_name": "Python 3"
    },
    "language_info": {
      "name": "python"
    }
  },
  "cells": [
    {
      "cell_type": "markdown",
      "metadata": {
        "id": "view-in-github",
        "colab_type": "text"
      },
      "source": [
        "<a href=\"https://colab.research.google.com/github/afprof/afprof/blob/main/Untitled1.ipynb\" target=\"_parent\"><img src=\"https://colab.research.google.com/assets/colab-badge.svg\" alt=\"Open In Colab\"/></a>"
      ]
    },
    {
      "cell_type": "code",
      "execution_count": 7,
      "metadata": {
        "colab": {
          "base_uri": "https://localhost:8080/"
        },
        "id": "7Sj6-RAhu0tW",
        "outputId": "a8d93a32-4898-4c43-dc6e-02b14e64576d"
      },
      "outputs": [
        {
          "output_type": "stream",
          "name": "stdout",
          "text": [
            "15\n",
            "759375\n",
            "151875.0\n",
            "30375.0\n"
          ]
        }
      ],
      "source": [
        "score = 10\n",
        "score += 5\n",
        "print(score)\n",
        "score **= 5\n",
        "print(score)\n",
        "score /= 5\n",
        "print(score)\n",
        "score /= 5\n",
        "print(score)"
      ]
    },
    {
      "cell_type": "code",
      "source": [
        "score1, score2, score3 = 10, 20, 30\n",
        "score_sum = score1 + score2 + score3\n",
        "print(score_sum)\n",
        "n_student = 3\n",
        "score_mean = (score1 + score2 + score3) / 3\n",
        "print(score_mean)\n",
        "score1 += 10\n",
        "score2 += 10\n",
        "score3 += 10\n",
        "score_mean = (score1 + score2 + score3) / n_student\n",
        "print(score_mean)\n",
        "\n",
        "\n",
        "square_of_mean = score_mean**2\n",
        "mean_of_square = (score1**2 + score2**2 + score3**2) / n_student\n",
        "\n",
        "print(square_of_mean, mean_of_square)\n",
        "\n",
        "score_variance = mean_of_square - square_of_mean\n",
        "score_std = score_variance**0.5\n",
        "print(score_variance, score_std)"
      ],
      "metadata": {
        "colab": {
          "base_uri": "https://localhost:8080/"
        },
        "id": "HyXL9_x_v4Y-",
        "outputId": "681cbbf4-86bf-4c99-b073-dc5e64493d73"
      },
      "execution_count": 20,
      "outputs": [
        {
          "output_type": "stream",
          "name": "stdout",
          "text": [
            "60\n",
            "20.0\n",
            "30.0\n",
            "900.0 966.6666666666666\n",
            "66.66666666666663 8.164965809277257\n"
          ]
        }
      ]
    },
    {
      "cell_type": "code",
      "source": [
        "score1, score2, score3 = 10, 20, 30\n",
        "score_sum = score1 + score2 + score3\n",
        "n_student = 3\n",
        "score_mean = (score1 + score2 + score3) / 3\n",
        "score_mean = (score1 + score2 + score3) / n_student\n",
        "\n",
        "square_of_mean = score_mean**2\n",
        "mean_of_square = (score1**2 + score2**2 + score3**2) / n_student\n",
        "\n",
        "score_variance = mean_of_square - square_of_mean\n",
        "score_std = score_variance**0.5\n",
        "\n",
        "score1 = (score1 - score_mean)/score_std\n",
        "score2 = (score2 - score_mean)/score_std\n",
        "score3 = (score3 - score_mean)/score_std\n",
        "\n",
        "score_sum = score1 + score2 + score3\n",
        "n_student = 3\n",
        "score_mean = (score1 + score2 + score3) / 3\n",
        "score_mean = (score1 + score2 + score3) / n_student\n",
        "\n",
        "square_of_mean = score_mean**2\n",
        "mean_of_square = (score1**2 + score2**2 + score3**2) / n_student\n",
        "\n",
        "score_variance = mean_of_square - square_of_mean\n",
        "score_std = score_variance**0.5\n",
        "\n",
        "\n",
        "print(score_mean, score_std, score_variance)"
      ],
      "metadata": {
        "colab": {
          "base_uri": "https://localhost:8080/"
        },
        "id": "Dtgb-rk_FKgK",
        "outputId": "cd93d667-67f4-40ca-c71c-1bbd26f211b0"
      },
      "execution_count": 24,
      "outputs": [
        {
          "output_type": "stream",
          "name": "stdout",
          "text": [
            "0.0 0.9999999999999999 0.9999999999999999\n"
          ]
        }
      ]
    },
    {
      "cell_type": "code",
      "source": [
        "x1, y1, z1 = 1, 2, 3\n",
        "x2, y2, z2 = 4, 5 ,6\n",
        "x3, y3, z3 = x1 + x2, y1 + y2, z1 + z2\n",
        "x4, y4, z4 = x1 - x2, y1 - y2, z1 - z2\n",
        "x5, y5, z5 = x1 * x2, y1 * y2, z1 * z2\n",
        "print(x3, y3, z3)\n",
        "print(x4, y4, z4)\n",
        "print(x5, y5, z5)"
      ],
      "metadata": {
        "colab": {
          "base_uri": "https://localhost:8080/"
        },
        "id": "tvQo1_MPGwt6",
        "outputId": "6c1ab904-fbe9-4dad-db3f-c30364ce38bf"
      },
      "execution_count": 28,
      "outputs": [
        {
          "output_type": "stream",
          "name": "stdout",
          "text": [
            "5 7 9\n",
            "-3 -3 -3\n",
            "4 10 18\n"
          ]
        }
      ]
    },
    {
      "cell_type": "code",
      "source": [
        "x, y, z = 1, 2, 3\n",
        "norm = (x**2 + y**2 + z**2)**0.5\n",
        "print(norm)\n",
        "\n",
        "x, y, z = x/norm, y/norm, z/norm\n",
        "norm = (x**2 + y**2 + z**2)**0.5\n",
        "print(norm)"
      ],
      "metadata": {
        "colab": {
          "base_uri": "https://localhost:8080/"
        },
        "id": "w8XaJqobIc0B",
        "outputId": "1108a115-ade1-4fe4-c21f-6c2a508969a8"
      },
      "execution_count": 30,
      "outputs": [
        {
          "output_type": "stream",
          "name": "stdout",
          "text": [
            "3.7416573867739413\n",
            "1.0\n"
          ]
        }
      ]
    },
    {
      "cell_type": "code",
      "source": [
        "x1, y1, z1 = 1, 2, 3\n",
        "x2, y2, z2 = 4, 5, 6\n",
        "dot_prod = x1*x2 + y1*y2 + z1*z2\n",
        "print(dot_prod)\n",
        "\n",
        "e_distance = (x1 - x2)**2 + (y1 - y2)**2 + (z1 - z2)**2\n",
        "e_distance **= 0.5\n",
        "print(e_distance)"
      ],
      "metadata": {
        "colab": {
          "base_uri": "https://localhost:8080/"
        },
        "id": "oMxGgZ2-MJTj",
        "outputId": "fe293fd4-7d8b-4db5-896a-11498782b9a7"
      },
      "execution_count": 32,
      "outputs": [
        {
          "output_type": "stream",
          "name": "stdout",
          "text": [
            "32\n",
            "5.196152422706632\n"
          ]
        }
      ]
    },
    {
      "cell_type": "code",
      "source": [
        "pred1, pred2, pred3 = 10, 20, 30\n",
        "y1, y2, y3 = 15, 25, 40\n",
        "s_error1 = (pred1 - y1)**2\n",
        "s_error2 = (pred2 - y2)**2\n",
        "s_error3 = (pred3 - y3)**2\n",
        "print(s_error1, s_error2, s_error3)\n",
        "mean_s_error = (s_error1**2 + s_error2**2 + s_error3**2) / 3\n",
        "print(mean_s_error)"
      ],
      "metadata": {
        "colab": {
          "base_uri": "https://localhost:8080/"
        },
        "id": "s_G05oL6Oc6h",
        "outputId": "08a57011-75f8-4efd-ac12-f54ab334fc84"
      },
      "execution_count": 35,
      "outputs": [
        {
          "output_type": "stream",
          "name": "stdout",
          "text": [
            "25 25 100\n",
            "3750.0\n"
          ]
        }
      ]
    },
    {
      "cell_type": "code",
      "source": [
        "scores = [10, 20, 30]\n",
        "print(scores[0], scores[1], scores[2])"
      ],
      "metadata": {
        "colab": {
          "base_uri": "https://localhost:8080/"
        },
        "id": "NByDodNwQVAH",
        "outputId": "ad9968a7-bc72-4762-a86d-1d79ba40f375"
      },
      "execution_count": 36,
      "outputs": [
        {
          "output_type": "stream",
          "name": "stdout",
          "text": [
            "10 20 30\n"
          ]
        }
      ]
    }
  ]
}
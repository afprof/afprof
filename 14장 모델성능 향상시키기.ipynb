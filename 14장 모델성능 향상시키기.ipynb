{
  "nbformat": 4,
  "nbformat_minor": 0,
  "metadata": {
    "colab": {
      "provenance": [],
      "authorship_tag": "ABX9TyOD1FZ9gMmqcQRgx23XH+Tf",
      "include_colab_link": true
    },
    "kernelspec": {
      "name": "python3",
      "display_name": "Python 3"
    },
    "language_info": {
      "name": "python"
    }
  },
  "cells": [
    {
      "cell_type": "markdown",
      "metadata": {
        "id": "view-in-github",
        "colab_type": "text"
      },
      "source": [
        "<a href=\"https://colab.research.google.com/github/afprof/afprof/blob/main/14%EC%9E%A5%20%EB%AA%A8%EB%8D%B8%EC%84%B1%EB%8A%A5%20%ED%96%A5%EC%83%81%EC%8B%9C%ED%82%A4%EA%B8%B0.ipynb\" target=\"_parent\"><img src=\"https://colab.research.google.com/assets/colab-badge.svg\" alt=\"Open In Colab\"/></a>"
      ]
    },
    {
      "cell_type": "code",
      "execution_count": 5,
      "metadata": {
        "id": "HxQeM2R4aAyL"
      },
      "outputs": [],
      "source": [
        "from tensorflow.keras.models import Sequential\n",
        "from tensorflow.keras.layers import Dense\n",
        "from sklearn.model_selection import train_test_split\n",
        "import pandas as pd"
      ]
    },
    {
      "cell_type": "code",
      "source": [
        "!git clone https://github.com/taehojo/data.git"
      ],
      "metadata": {
        "colab": {
          "base_uri": "https://localhost:8080/"
        },
        "id": "NbKUHZJAaevr",
        "outputId": "76b50fdc-2d99-4e2c-faab-85723fcedad7"
      },
      "execution_count": 3,
      "outputs": [
        {
          "output_type": "stream",
          "name": "stdout",
          "text": [
            "Cloning into 'data'...\n",
            "remote: Enumerating objects: 21, done.\u001b[K\n",
            "remote: Counting objects: 100% (21/21), done.\u001b[K\n",
            "remote: Compressing objects: 100% (18/18), done.\u001b[K\n",
            "remote: Total 21 (delta 3), reused 20 (delta 2), pack-reused 0\u001b[K\n",
            "Unpacking objects: 100% (21/21), 460.93 KiB | 7.81 MiB/s, done.\n"
          ]
        }
      ]
    },
    {
      "cell_type": "code",
      "source": [
        "df = pd.read_csv('./data/wine.csv', header=None)"
      ],
      "metadata": {
        "id": "zSfiyVdlamH-"
      },
      "execution_count": 6,
      "outputs": []
    },
    {
      "cell_type": "code",
      "source": [
        "X = df.iloc[:, 0:12]\n",
        "y = df.iloc[:,12]"
      ],
      "metadata": {
        "id": "-Yf0MLEba4Du"
      },
      "execution_count": 7,
      "outputs": []
    },
    {
      "cell_type": "code",
      "source": [
        "X_train, X_test, y_train, y_test = train_test_split(X, y, test_size=0.2, shuffle = True)"
      ],
      "metadata": {
        "id": "V6uYyUBZbHSt"
      },
      "execution_count": 8,
      "outputs": []
    },
    {
      "cell_type": "code",
      "source": [
        "model = Sequential()\n",
        "model.add(Dense(30, input_dim = 12, activation = 'relu'))\n",
        "model.add(Dense(12, activation = 'relu'))\n",
        "model.add(Dense(8, activation = 'relu'))\n",
        "model.add(Dense(1, activation = 'sigmoid'))"
      ],
      "metadata": {
        "id": "DZRLGjQubT1E"
      },
      "execution_count": 9,
      "outputs": []
    },
    {
      "cell_type": "code",
      "source": [
        "model.compile(loss='binary_crossentropy', optimizer = 'adam', metrics = ['accuracy'])"
      ],
      "metadata": {
        "id": "Jmj7oqRQb3e2"
      },
      "execution_count": 10,
      "outputs": []
    },
    {
      "cell_type": "code",
      "source": [
        "history = model.fit(X_train, y_train, epochs = 50, batch_size=500,\n",
        "                    validation_split=0.25)"
      ],
      "metadata": {
        "colab": {
          "base_uri": "https://localhost:8080/"
        },
        "id": "XRmhZc0RcHpl",
        "outputId": "0ef7796f-ea11-4ac9-da35-fc68defe645c"
      },
      "execution_count": 11,
      "outputs": [
        {
          "output_type": "stream",
          "name": "stdout",
          "text": [
            "Epoch 1/50\n",
            "8/8 [==============================] - 2s 55ms/step - loss: 0.5127 - accuracy: 0.7583 - val_loss: 0.4367 - val_accuracy: 0.7523\n",
            "Epoch 2/50\n",
            "8/8 [==============================] - 0s 14ms/step - loss: 0.4146 - accuracy: 0.7583 - val_loss: 0.4097 - val_accuracy: 0.7523\n",
            "Epoch 3/50\n",
            "8/8 [==============================] - 0s 13ms/step - loss: 0.3927 - accuracy: 0.7583 - val_loss: 0.3909 - val_accuracy: 0.7523\n",
            "Epoch 4/50\n",
            "8/8 [==============================] - 0s 12ms/step - loss: 0.3747 - accuracy: 0.7583 - val_loss: 0.3754 - val_accuracy: 0.7523\n",
            "Epoch 5/50\n",
            "8/8 [==============================] - 0s 11ms/step - loss: 0.3612 - accuracy: 0.7619 - val_loss: 0.3653 - val_accuracy: 0.7623\n",
            "Epoch 6/50\n",
            "8/8 [==============================] - 0s 12ms/step - loss: 0.3486 - accuracy: 0.7919 - val_loss: 0.3465 - val_accuracy: 0.8092\n",
            "Epoch 7/50\n",
            "8/8 [==============================] - 0s 10ms/step - loss: 0.3199 - accuracy: 0.8458 - val_loss: 0.2998 - val_accuracy: 0.8777\n",
            "Epoch 8/50\n",
            "8/8 [==============================] - 0s 10ms/step - loss: 0.2666 - accuracy: 0.9110 - val_loss: 0.2519 - val_accuracy: 0.9200\n",
            "Epoch 9/50\n",
            "8/8 [==============================] - 0s 7ms/step - loss: 0.2361 - accuracy: 0.9174 - val_loss: 0.2338 - val_accuracy: 0.9246\n",
            "Epoch 10/50\n",
            "8/8 [==============================] - 0s 10ms/step - loss: 0.2227 - accuracy: 0.9269 - val_loss: 0.2264 - val_accuracy: 0.9246\n",
            "Epoch 11/50\n",
            "8/8 [==============================] - 0s 9ms/step - loss: 0.2152 - accuracy: 0.9279 - val_loss: 0.2213 - val_accuracy: 0.9262\n",
            "Epoch 12/50\n",
            "8/8 [==============================] - 0s 9ms/step - loss: 0.2102 - accuracy: 0.9323 - val_loss: 0.2170 - val_accuracy: 0.9269\n",
            "Epoch 13/50\n",
            "8/8 [==============================] - 0s 7ms/step - loss: 0.2063 - accuracy: 0.9325 - val_loss: 0.2135 - val_accuracy: 0.9269\n",
            "Epoch 14/50\n",
            "8/8 [==============================] - 0s 7ms/step - loss: 0.2030 - accuracy: 0.9333 - val_loss: 0.2108 - val_accuracy: 0.9254\n",
            "Epoch 15/50\n",
            "8/8 [==============================] - 0s 9ms/step - loss: 0.2013 - accuracy: 0.9323 - val_loss: 0.2082 - val_accuracy: 0.9292\n",
            "Epoch 16/50\n",
            "8/8 [==============================] - 0s 9ms/step - loss: 0.1984 - accuracy: 0.9325 - val_loss: 0.2046 - val_accuracy: 0.9292\n",
            "Epoch 17/50\n",
            "8/8 [==============================] - 0s 10ms/step - loss: 0.1945 - accuracy: 0.9356 - val_loss: 0.2004 - val_accuracy: 0.9308\n",
            "Epoch 18/50\n",
            "8/8 [==============================] - 0s 10ms/step - loss: 0.1899 - accuracy: 0.9358 - val_loss: 0.1981 - val_accuracy: 0.9315\n",
            "Epoch 19/50\n",
            "8/8 [==============================] - 0s 7ms/step - loss: 0.1857 - accuracy: 0.9389 - val_loss: 0.1943 - val_accuracy: 0.9331\n",
            "Epoch 20/50\n",
            "8/8 [==============================] - 0s 7ms/step - loss: 0.1822 - accuracy: 0.9405 - val_loss: 0.1926 - val_accuracy: 0.9362\n",
            "Epoch 21/50\n",
            "8/8 [==============================] - 0s 9ms/step - loss: 0.1801 - accuracy: 0.9420 - val_loss: 0.1880 - val_accuracy: 0.9346\n",
            "Epoch 22/50\n",
            "8/8 [==============================] - 0s 9ms/step - loss: 0.1778 - accuracy: 0.9420 - val_loss: 0.1848 - val_accuracy: 0.9362\n",
            "Epoch 23/50\n",
            "8/8 [==============================] - 0s 7ms/step - loss: 0.1731 - accuracy: 0.9420 - val_loss: 0.1865 - val_accuracy: 0.9377\n",
            "Epoch 24/50\n",
            "8/8 [==============================] - 0s 7ms/step - loss: 0.1713 - accuracy: 0.9418 - val_loss: 0.1781 - val_accuracy: 0.9400\n",
            "Epoch 25/50\n",
            "8/8 [==============================] - 0s 9ms/step - loss: 0.1649 - accuracy: 0.9451 - val_loss: 0.1750 - val_accuracy: 0.9415\n",
            "Epoch 26/50\n",
            "8/8 [==============================] - 0s 11ms/step - loss: 0.1616 - accuracy: 0.9466 - val_loss: 0.1719 - val_accuracy: 0.9446\n",
            "Epoch 27/50\n",
            "8/8 [==============================] - 0s 9ms/step - loss: 0.1578 - accuracy: 0.9479 - val_loss: 0.1694 - val_accuracy: 0.9462\n",
            "Epoch 28/50\n",
            "8/8 [==============================] - 0s 7ms/step - loss: 0.1554 - accuracy: 0.9464 - val_loss: 0.1689 - val_accuracy: 0.9454\n",
            "Epoch 29/50\n",
            "8/8 [==============================] - 0s 9ms/step - loss: 0.1519 - accuracy: 0.9471 - val_loss: 0.1644 - val_accuracy: 0.9454\n",
            "Epoch 30/50\n",
            "8/8 [==============================] - 0s 9ms/step - loss: 0.1466 - accuracy: 0.9507 - val_loss: 0.1635 - val_accuracy: 0.9462\n",
            "Epoch 31/50\n",
            "8/8 [==============================] - 0s 9ms/step - loss: 0.1462 - accuracy: 0.9507 - val_loss: 0.1647 - val_accuracy: 0.9446\n",
            "Epoch 32/50\n",
            "8/8 [==============================] - 0s 9ms/step - loss: 0.1411 - accuracy: 0.9505 - val_loss: 0.1603 - val_accuracy: 0.9462\n",
            "Epoch 33/50\n",
            "8/8 [==============================] - 0s 7ms/step - loss: 0.1395 - accuracy: 0.9528 - val_loss: 0.1568 - val_accuracy: 0.9469\n",
            "Epoch 34/50\n",
            "8/8 [==============================] - 0s 7ms/step - loss: 0.1364 - accuracy: 0.9546 - val_loss: 0.1554 - val_accuracy: 0.9469\n",
            "Epoch 35/50\n",
            "8/8 [==============================] - 0s 7ms/step - loss: 0.1336 - accuracy: 0.9554 - val_loss: 0.1543 - val_accuracy: 0.9477\n",
            "Epoch 36/50\n",
            "8/8 [==============================] - 0s 10ms/step - loss: 0.1332 - accuracy: 0.9528 - val_loss: 0.1586 - val_accuracy: 0.9500\n",
            "Epoch 37/50\n",
            "8/8 [==============================] - 0s 7ms/step - loss: 0.1314 - accuracy: 0.9543 - val_loss: 0.1513 - val_accuracy: 0.9492\n",
            "Epoch 38/50\n",
            "8/8 [==============================] - 0s 7ms/step - loss: 0.1310 - accuracy: 0.9530 - val_loss: 0.1621 - val_accuracy: 0.9446\n",
            "Epoch 39/50\n",
            "8/8 [==============================] - 0s 7ms/step - loss: 0.1281 - accuracy: 0.9559 - val_loss: 0.1521 - val_accuracy: 0.9469\n",
            "Epoch 40/50\n",
            "8/8 [==============================] - 0s 8ms/step - loss: 0.1243 - accuracy: 0.9592 - val_loss: 0.1505 - val_accuracy: 0.9485\n",
            "Epoch 41/50\n",
            "8/8 [==============================] - 0s 9ms/step - loss: 0.1227 - accuracy: 0.9589 - val_loss: 0.1474 - val_accuracy: 0.9485\n",
            "Epoch 42/50\n",
            "8/8 [==============================] - 0s 9ms/step - loss: 0.1209 - accuracy: 0.9577 - val_loss: 0.1502 - val_accuracy: 0.9546\n",
            "Epoch 43/50\n",
            "8/8 [==============================] - 0s 7ms/step - loss: 0.1203 - accuracy: 0.9574 - val_loss: 0.1467 - val_accuracy: 0.9515\n",
            "Epoch 44/50\n",
            "8/8 [==============================] - 0s 7ms/step - loss: 0.1179 - accuracy: 0.9600 - val_loss: 0.1450 - val_accuracy: 0.9538\n",
            "Epoch 45/50\n",
            "8/8 [==============================] - 0s 8ms/step - loss: 0.1167 - accuracy: 0.9618 - val_loss: 0.1437 - val_accuracy: 0.9508\n",
            "Epoch 46/50\n",
            "8/8 [==============================] - 0s 8ms/step - loss: 0.1148 - accuracy: 0.9592 - val_loss: 0.1431 - val_accuracy: 0.9577\n",
            "Epoch 47/50\n",
            "8/8 [==============================] - 0s 7ms/step - loss: 0.1135 - accuracy: 0.9613 - val_loss: 0.1425 - val_accuracy: 0.9492\n",
            "Epoch 48/50\n",
            "8/8 [==============================] - 0s 9ms/step - loss: 0.1117 - accuracy: 0.9618 - val_loss: 0.1413 - val_accuracy: 0.9515\n",
            "Epoch 49/50\n",
            "8/8 [==============================] - 0s 7ms/step - loss: 0.1106 - accuracy: 0.9641 - val_loss: 0.1404 - val_accuracy: 0.9554\n",
            "Epoch 50/50\n",
            "8/8 [==============================] - 0s 9ms/step - loss: 0.1097 - accuracy: 0.9633 - val_loss: 0.1424 - val_accuracy: 0.9569\n"
          ]
        }
      ]
    },
    {
      "cell_type": "code",
      "source": [
        "score = model.evaluate(X_test, y_test)\n",
        "print('Test accuracy:', score[1])"
      ],
      "metadata": {
        "colab": {
          "base_uri": "https://localhost:8080/"
        },
        "id": "gVJMXrzzcal9",
        "outputId": "20287f2c-d70f-455a-ed59-06fcbc5ce6e2"
      },
      "execution_count": 12,
      "outputs": [
        {
          "output_type": "stream",
          "name": "stdout",
          "text": [
            "41/41 [==============================] - 0s 1ms/step - loss: 0.1006 - accuracy: 0.9692\n",
            "Test accuracy: 0.9692307710647583\n"
          ]
        }
      ]
    },
    {
      "cell_type": "code",
      "source": [],
      "metadata": {
        "id": "hmTq87TNcoB9"
      },
      "execution_count": null,
      "outputs": []
    }
  ]
}